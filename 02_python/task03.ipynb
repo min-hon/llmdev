{
 "cells": [
  {
   "cell_type": "code",
   "execution_count": 3,
   "id": "a38d0667",
   "metadata": {},
   "outputs": [
    {
     "name": "stdout",
     "output_type": "stream",
     "text": [
      "10年後の金額: 1628.89\n"
     ]
    }
   ],
   "source": [
    "principal = int(input(\"元金を入力してください：\"))\n",
    "interest = int(input(\"年利を入力してください：\"))\n",
    "\n",
    "for i in range(1, 11):\n",
    "    principal *= (1 + (interest / 100))\n",
    "\n",
    "print(f\"10年後の金額: {principal:.2f}\")"
   ]
  }
 ],
 "metadata": {
  "kernelspec": {
   "display_name": ".venv",
   "language": "python",
   "name": "python3"
  },
  "language_info": {
   "codemirror_mode": {
    "name": "ipython",
    "version": 3
   },
   "file_extension": ".py",
   "mimetype": "text/x-python",
   "name": "python",
   "nbconvert_exporter": "python",
   "pygments_lexer": "ipython3",
   "version": "3.12.10"
  }
 },
 "nbformat": 4,
 "nbformat_minor": 5
}
