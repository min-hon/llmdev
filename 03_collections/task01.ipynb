{
 "cells": [
  {
   "cell_type": "code",
   "execution_count": 12,
   "id": "2f3ae7f2",
   "metadata": {},
   "outputs": [
    {
     "name": "stdout",
     "output_type": "stream",
     "text": [
      "平均点: 86.6\n",
      "最高点: 92\n",
      "最低点: 78\n",
      "平均以上の学生数: 3\n"
     ]
    }
   ],
   "source": [
    "grades = [85, 90, 78, 92, 88]\n",
    "\n",
    "average = sum(grades)/len(grades)\n",
    "above = [grade for grade in grades if grade >= average]\n",
    "\n",
    "print(f\"平均点: {average}\")\n",
    "print(f\"最高点: {max(grades)}\")\n",
    "print(f\"最低点: {min(grades)}\")\n",
    "print(f\"平均以上の学生数: {len(above)}\")"
   ]
  }
 ],
 "metadata": {
  "kernelspec": {
   "display_name": ".venv",
   "language": "python",
   "name": "python3"
  },
  "language_info": {
   "codemirror_mode": {
    "name": "ipython",
    "version": 3
   },
   "file_extension": ".py",
   "mimetype": "text/x-python",
   "name": "python",
   "nbconvert_exporter": "python",
   "pygments_lexer": "ipython3",
   "version": "3.12.10"
  }
 },
 "nbformat": 4,
 "nbformat_minor": 5
}
