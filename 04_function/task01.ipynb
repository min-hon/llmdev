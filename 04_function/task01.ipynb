{
 "cells": [
  {
   "cell_type": "code",
   "execution_count": null,
   "id": "ef91ead2",
   "metadata": {},
   "outputs": [
    {
     "name": "stdout",
     "output_type": "stream",
     "text": [
      "エラー: ユーザー名に空白を含めることはできません\n",
      "不正なユーザー名です\n"
     ]
    }
   ],
   "source": [
    "def username_validation(name):\n",
    "    if len(name) < 5 or 15 < len(name):\n",
    "        print(\"エラー: ユーザー名は5文字以上15文字以内で入力してください\")\n",
    "        return False\n",
    "    if \" \" in name:\n",
    "        print(\"エラー: ユーザー名に空白を含めることはできません\")\n",
    "        return False\n",
    "    if not name.isalnum():\n",
    "        print(\"エラー: ユーザー名は英数字のみ使用できます\")\n",
    "        return False\n",
    "    return True\n",
    "\n",
    "valid = username_validation(input(\"ユーザー名を入力してください：\"))\n",
    "print(f\"{'ユーザー名は有効です' if valid else '不正なユーザー名です'}\")"
   ]
  }
 ],
 "metadata": {
  "kernelspec": {
   "display_name": ".venv",
   "language": "python",
   "name": "python3"
  },
  "language_info": {
   "codemirror_mode": {
    "name": "ipython",
    "version": 3
   },
   "file_extension": ".py",
   "mimetype": "text/x-python",
   "name": "python",
   "nbconvert_exporter": "python",
   "pygments_lexer": "ipython3",
   "version": "3.12.10"
  }
 },
 "nbformat": 4,
 "nbformat_minor": 5
}
