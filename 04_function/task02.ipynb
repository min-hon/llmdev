{
 "cells": [
  {
   "cell_type": "code",
   "execution_count": null,
   "id": "c50e4d3e",
   "metadata": {},
   "outputs": [
    {
     "name": "stdout",
     "output_type": "stream",
     "text": [
      "Content saved in: 20250807_172140.txt\n"
     ]
    }
   ],
   "source": [
    "import urllib.request as ur\n",
    "import datetime as dt\n",
    "\n",
    "def save_url_content(url):\n",
    "    res = ur.urlopen(url)\n",
    "    html = res.read().decode(\"utf-8\")\n",
    "\n",
    "    now = dt.datetime.now()\n",
    "    file_name = now.strftime(\"%Y%m%d_%H%M%S.txt\")\n",
    "\n",
    "    with open(file_name, \"w\", encoding=\"utf-8\") as f:\n",
    "        f.write(html[:500])\n",
    "\n",
    "    return file_name\n",
    "\n",
    "url = input(\"URLを入力してください: \")\n",
    "file_name = save_url_content(url)\n",
    "print(f\"Content saved in: {file_name}\")"
   ]
  }
 ],
 "metadata": {
  "kernelspec": {
   "display_name": ".venv",
   "language": "python",
   "name": "python3"
  },
  "language_info": {
   "codemirror_mode": {
    "name": "ipython",
    "version": 3
   },
   "file_extension": ".py",
   "mimetype": "text/x-python",
   "name": "python",
   "nbconvert_exporter": "python",
   "pygments_lexer": "ipython3",
   "version": "3.12.10"
  }
 },
 "nbformat": 4,
 "nbformat_minor": 5
}
