{
 "cells": [
  {
   "cell_type": "code",
   "execution_count": 6,
   "id": "b8ff1f02",
   "metadata": {},
   "outputs": [
    {
     "name": "stdout",
     "output_type": "stream",
     "text": [
      "1300\n",
      "エラー: 残高不足または無効な金額です\n"
     ]
    }
   ],
   "source": [
    "class BankAccount:\n",
    "    def __init__(self, balance):\n",
    "        self.__balance = balance\n",
    "\n",
    "    def deposit(self, amount):\n",
    "        if amount < 0:\n",
    "            raise Exception(\"エラー: 正しい金額を入力してください\")\n",
    "        self.__balance += amount\n",
    "    \n",
    "    def withdraw(self, amount):\n",
    "        if amount < 0 or self.__balance < amount:\n",
    "            raise Exception(\"エラー: 残高不足または無効な金額です\")\n",
    "        self.__balance -= amount\n",
    "    \n",
    "    def get_balance(self):\n",
    "        print(self.__balance)\n",
    "\n",
    "try:\n",
    "    bank = BankAccount(1000)\n",
    "    bank.deposit(500)\n",
    "    bank.withdraw(200)\n",
    "    bank.get_balance()\n",
    "    bank.withdraw(1500)\n",
    "except Exception as e:\n",
    "    print(e)"
   ]
  }
 ],
 "metadata": {
  "kernelspec": {
   "display_name": ".venv",
   "language": "python",
   "name": "python3"
  },
  "language_info": {
   "codemirror_mode": {
    "name": "ipython",
    "version": 3
   },
   "file_extension": ".py",
   "mimetype": "text/x-python",
   "name": "python",
   "nbconvert_exporter": "python",
   "pygments_lexer": "ipython3",
   "version": "3.12.10"
  }
 },
 "nbformat": 4,
 "nbformat_minor": 5
}
