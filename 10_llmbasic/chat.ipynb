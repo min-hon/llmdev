{
 "cells": [
  {
   "cell_type": "code",
   "execution_count": 1,
   "id": "8f2ff39b",
   "metadata": {},
   "outputs": [],
   "source": [
    "# 必要なモジュールをインポート\n",
    "import os\n",
    "from dotenv import load_dotenv\n",
    "from openai import OpenAI\n",
    "from pprint import pprint\n",
    "\n",
    "# 環境変数の取得\n",
    "load_dotenv(\"../.env\")\n",
    "\n",
    "# OpenAI APIクライアントを生成\n",
    "client = OpenAI(api_key=os.environ['API_KEY'])\n",
    "\n",
    "# モデル名\n",
    "MODEL_NAME = \"gpt-4o-mini\""
   ]
  },
  {
   "cell_type": "code",
   "execution_count": 2,
   "id": "c95963f4",
   "metadata": {},
   "outputs": [
    {
     "name": "stdout",
     "output_type": "stream",
     "text": [
      "{'_request_id': 'req_9cea7c938f6641a48a79ad79b02370c8',\n",
      " 'choices': [Choice(finish_reason='stop', index=0, logprobs=None, message=ChatCompletionMessage(content='言語モデルを効果的に使用するためのポイントはいくつかあります。以下に主な点を挙げます：\\n\\n1. **明確な目的を持つこと**: 言語モデルを使用する目的を明確にすることで、適切なプロンプトや質問を設定できます。\\n\\n2. **具体的な指示を与える**: モデルに対しては、具体的で詳細な指示を与えると、より正確な応答を得られる可能性が高くなります。\\n\\n3. **文脈を提供する**: より良い回答を得るためには、必要な文脈情報を提供することが重要です。前提条件や関連情報を含めると、モデルが理解しやすくなります。\\n\\n4. **実験と調整**: モデルの応答が期待したものと異なる場合、プロンプトを調整したり、異なる質問を試すことで、より良い結果を得ることができます。\\n\\n5. **フィードバックを活用する**: モデルの出力についてのフィードバックを考慮し、次の問い合わせに活かすことで、インタラクションを改善できます。\\n\\n6. **限界を理解する**: 言語モデルは完璧ではなく、誤った情報を生成することもあります。そのため、特に重要な情報や決定に関しては他の情報源と照らし合わせることが重要です。\\n\\n7. **幅広いトピックをカバーする**: 言語モデルはさまざまなトピックに対応できますが、専門的な知識が必要な場合は、その分野の専門家の意見も参考にすることをお勧めします。\\n\\n8. **倫理的考慮**: モデルを使用する際は、倫理的な観点にも配慮し、差別や偏見を助長しないように心掛けましょう。\\n\\nこれらのポイントを意識することで、言語モデルをより効果的に活用することができるでしょう。', refusal=None, role='assistant', audio=None, function_call=None, tool_calls=None, annotations=[]))],\n",
      " 'created': 1755222516,\n",
      " 'id': 'chatcmpl-C4dqWjgnBQn1U0VeRKy1YlI6VXivU',\n",
      " 'model': 'gpt-4o-mini-2024-07-18',\n",
      " 'object': 'chat.completion',\n",
      " 'service_tier': 'default',\n",
      " 'system_fingerprint': 'fp_34a54ae93c',\n",
      " 'usage': CompletionUsage(completion_tokens=475, prompt_tokens=18, total_tokens=493, completion_tokens_details=CompletionTokensDetails(accepted_prediction_tokens=0, audio_tokens=0, reasoning_tokens=0, rejected_prediction_tokens=0), prompt_tokens_details=PromptTokensDetails(audio_tokens=0, cached_tokens=0))}\n"
     ]
    }
   ],
   "source": [
    "# メッセージの設定\n",
    "message = \"言語モデルを使う上でのポイントは\"\n",
    "\n",
    "# APIへリクエスト\n",
    "response = client.chat.completions.create(\n",
    "    model=MODEL_NAME,\n",
    "    messages=[\n",
    "        {\"role\": \"user\", \"content\": message},\n",
    "    ]\n",
    ")\n",
    "\n",
    "# レスポンスの表示\n",
    "pprint(vars(response))"
   ]
  },
  {
   "cell_type": "code",
   "execution_count": 3,
   "id": "c3dc94b6",
   "metadata": {},
   "outputs": [
    {
     "name": "stdout",
     "output_type": "stream",
     "text": [
      "言語モデルを効果的に使用するためのポイントはいくつかあります。以下に主な点を挙げます：\n",
      "\n",
      "1. **明確な目的を持つこと**: 言語モデルを使用する目的を明確にすることで、適切なプロンプトや質問を設定できます。\n",
      "\n",
      "2. **具体的な指示を与える**: モデルに対しては、具体的で詳細な指示を与えると、より正確な応答を得られる可能性が高くなります。\n",
      "\n",
      "3. **文脈を提供する**: より良い回答を得るためには、必要な文脈情報を提供することが重要です。前提条件や関連情報を含めると、モデルが理解しやすくなります。\n",
      "\n",
      "4. **実験と調整**: モデルの応答が期待したものと異なる場合、プロンプトを調整したり、異なる質問を試すことで、より良い結果を得ることができます。\n",
      "\n",
      "5. **フィードバックを活用する**: モデルの出力についてのフィードバックを考慮し、次の問い合わせに活かすことで、インタラクションを改善できます。\n",
      "\n",
      "6. **限界を理解する**: 言語モデルは完璧ではなく、誤った情報を生成することもあります。そのため、特に重要な情報や決定に関しては他の情報源と照らし合わせることが重要です。\n",
      "\n",
      "7. **幅広いトピックをカバーする**: 言語モデルはさまざまなトピックに対応できますが、専門的な知識が必要な場合は、その分野の専門家の意見も参考にすることをお勧めします。\n",
      "\n",
      "8. **倫理的考慮**: モデルを使用する際は、倫理的な観点にも配慮し、差別や偏見を助長しないように心掛けましょう。\n",
      "\n",
      "これらのポイントを意識することで、言語モデルをより効果的に活用することができるでしょう。\n"
     ]
    }
   ],
   "source": [
    "# 言語モデルからの回答を表示\n",
    "print(response.choices[0].message.content.strip())"
   ]
  },
  {
   "cell_type": "code",
   "execution_count": 4,
   "id": "df5b94f3",
   "metadata": {},
   "outputs": [
    {
     "name": "stdout",
     "output_type": "stream",
     "text": [
      "新製品の発売に向けた効果的なマーケティング戦略を構築するためには、以下のステップと戦略を考慮することが重要です。\n",
      "\n",
      "### 1. ターゲット市場の明確化\n",
      "- **市場調査**：ターゲット顧客の特性、ニーズ、消費行動を理解するための調査を実施します。\n",
      "- **ペルソナ作成**：具体的な顧客像（ペルソナ）を作成し、それに基づいたメッセージを設計します。\n",
      "\n",
      "### 2. 競合分析\n",
      "- **競合の特定**：同じ市場やニッチを狙っている競合他社を分析します。\n",
      "- **差別化ポイントの確認**：競合製品と比較し、自社製品の強みやユニークなポイントを明確にします。\n",
      "\n",
      "### 3. 製品ポジショニング\n",
      "- **ブランドメッセージの構築**：ターゲット市場が共感するメッセージを開発し、製品の本質や魅力を効果的に伝えます。\n",
      "- **価値提案の明確化**：顧客にどのような利益を提供できるかを具体的に示します。\n",
      "\n",
      "### 4. マーケティングチャネルの選択\n",
      "- **オンラインチャネル**：SNS（Facebook, Instagram, Twitter等）、ブログ、Eメールマーケティングなど。\n",
      "- **オフラインチャネル**：店舗販促、イベント、セミナー、業界展示会など。\n",
      "\n",
      "### 5. プロモーションプランの策定\n",
      "- **ティーザーキャンペーン**：新製品の発売前に興味を引くためのティーザー広告やカウントダウンを行います。\n",
      "- **インフルエンサーとのコラボレーション**：業界に影響力のあるインフルエンサーを活用し、信頼を構築します。\n",
      "\n",
      "### 6. 発売イベントやキャンペーンの準備\n",
      "- **ローンチイベント**：新製品発表のための特別なイベントやオンラインライブを開催します。\n",
      "- **限定オファーや早期購入特典**：初期購入者に特典を提供し、購入を促進します。\n",
      "\n",
      "### 7. フィードバックの収集と適応\n",
      "- **カスタマーサポートとフィードバック**：発売後に顧客のフィードバックを収集し、製品や戦略の改善に役立てます。\n",
      "- **データ分析**：販売データや顧客の反応を分析し、次のアクションを決定します。\n",
      "\n",
      "### 8. 継続的なマーケティング活動\n",
      "- **リマーケティングやアップセル**：新製品を購入した顧客に対して、追加商品を提案するなどの戦略を実施します。\n",
      "- **コミュニティの構築**：顧客との関係性を強化するために、SNSやメーリングリストを活用してコミュニティを形成します。\n",
      "\n",
      "これらのステップを組み合わせることで、新製品の成功に向けた強力なマーケティング戦略を構築できます。\n"
     ]
    }
   ],
   "source": [
    "# 役割や前提の設定\n",
    "role = \"あなたはマーケティング分野に精通したビジネスコンサルタントです。企業の成長をサポートするために、効果的なマーケティング戦略を提供します。\"\n",
    "\n",
    "# メッセージの設定\n",
    "message = \"新製品の発売に向けた効果的なマーケティング戦略を教えてください。\"\n",
    "\n",
    "# APIへリクエスト\n",
    "response = client.chat.completions.create(\n",
    "    model=MODEL_NAME,\n",
    "    messages=[\n",
    "        {\"role\": \"system\", \"content\": role},\n",
    "        {\"role\": \"user\", \"content\": message},\n",
    "    ],\n",
    ")\n",
    "\n",
    "# 言語モデルからの回答を表示\n",
    "print(response.choices[0].message.content.strip())"
   ]
  },
  {
   "cell_type": "code",
   "execution_count": 5,
   "id": "bae1a7e5",
   "metadata": {},
   "outputs": [
    {
     "name": "stdout",
     "output_type": "stream",
     "text": [
      "--------------------\n",
      "日本は独自の文化、歴史、美しい自然、先進的な技術など多くの魅力を持つ国です。以下にいくつかのポイントを紹介します。\n",
      "\n",
      "1. **歴史ある文化**:\n",
      "   - 京都や奈良には古い神社や寺院が多く、伝統的な日本の文化を体験できます。例えば、金閣寺や奈良の東大寺などは訪れる価\n",
      "--------------------\n",
      "もちろんです！日本には多くの魅力がありますが、いくつか特に注目すべき点を紹介します。\n",
      "\n",
      "### 1. 歴史と文化\n",
      "日本は深い歴史を持ち、伝統的な文化が現代と共存しています。例えば、神道や仏教の儀式、伝統的な祭り（例：祇園祭、ねぶた祭りなど）が多く、古\n",
      "--------------------\n",
      "日本は、豊かな歴史、文化、自然、美食などが融合した国です。以下に日本の魅力をいくつか紹介します。\n",
      "\n",
      "1. **伝統文化**: 日本の伝統には、茶道、着物、和食、能楽、書道などが含まれています。特に茶道は日本の礼儀作法や美意識を表現しており、多くの外国人観光客に\n"
     ]
    }
   ],
   "source": [
    "# 出力の多様性\n",
    "message = \"日本の魅力を紹介して！\"\n",
    "\n",
    "# APIへリクエスト\n",
    "response = client.chat.completions.create(\n",
    "    model=MODEL_NAME,\n",
    "    messages=[\n",
    "        {\"role\": \"user\", \"content\": message},\n",
    "    ],\n",
    "    temperature=1.4,\n",
    "    n = 3, # 3回答を得る\n",
    "    max_completion_tokens = 100 # 出力トークン長を制限\n",
    ")\n",
    "\n",
    "# 結果を表示（複数回答を比較）\n",
    "for choice in response.choices:\n",
    "    print(\"-\" * 20)\n",
    "    print(choice.message.content.strip())"
   ]
  },
  {
   "cell_type": "code",
   "execution_count": 6,
   "id": "e2ff8a5c",
   "metadata": {},
   "outputs": [
    {
     "name": "stdout",
     "output_type": "stream",
     "text": [
      "--------------------\n",
      "日本は多様な魅力を持つ国で、文化、自然、食、技術など多岐にわたる魅力があります。以下にいくつかのポイントを紹介します。\n",
      "\n",
      "### 1. 文化と歴史\n",
      "日本は古代からの歴史があり、伝統と現代が共存しています。神社や寺、伝統的な祭り、和服、茶道など、日本の文化は魅力\n",
      "--------------------\n",
      "もちろんです！日本には多くの魅力があり、さまざまな側面から楽しむことができます。以下にいくつかのポイントを紹介します。\n",
      "\n",
      "### 1. 文化と伝統\n",
      "日本の文化は非常に豊かで多様です。伝統的な祭りや芸能（能、歌舞伎、民謡など）は、今でも多くの人に愛されています。また、茶道や書\n",
      "--------------------\n",
      "日本の魅力は多岐にわたり、文化、自然、歴史、料理、技術など様々な側面に広がっています。以下にいくつかのポイントを紹介します。\n",
      "\n",
      "### 1. 文化と伝統\n",
      "- **伝統芸能**: 日本の伝統芸能、例えば歌舞伎、能、茶道、和太鼓などは、長い歴史と独自の美意識を\n"
     ]
    }
   ],
   "source": [
    "# 出力の多様性\n",
    "message = \"日本の魅力を紹介して！\"\n",
    "\n",
    "# APIへリクエスト\n",
    "response = client.chat.completions.create(\n",
    "    model=MODEL_NAME,\n",
    "    messages=[\n",
    "        {\"role\": \"user\", \"content\": message},\n",
    "    ],\n",
    "    presence_penalty=-2.0,\n",
    "    n = 3, # 3回答を得る\n",
    "    max_completion_tokens = 100 # 出力トークン長を制限\n",
    ")\n",
    "\n",
    "# 結果を表示（複数回答を比較）\n",
    "for choice in response.choices:\n",
    "    print(\"-\" * 20)\n",
    "    print(choice.message.content.strip())"
   ]
  },
  {
   "cell_type": "code",
   "execution_count": 7,
   "id": "162d735f",
   "metadata": {},
   "outputs": [
    {
     "name": "stdout",
     "output_type": "stream",
     "text": [
      "tokens_count=2\n",
      "tokens=[95839, 3393]\n"
     ]
    }
   ],
   "source": [
    "import tiktoken\n",
    "from tiktoken.core import Encoding\n",
    "\n",
    "# OpenAI APIの特定のモデルに対応するトークナイザーを取得\n",
    "encoding: Encoding = tiktoken.encoding_for_model(MODEL_NAME) # o200k_base\n",
    "\n",
    "# テキストをトークンIDのリストに変換\n",
    "tokens = encoding.encode(\"こんにちは！\")\n",
    "tokens_count = len(tokens)\n",
    "\n",
    "# トークンの長さとトークンIDを表示\n",
    "print(f\"{tokens_count=}\")\n",
    "print(f\"{tokens=}\")"
   ]
  },
  {
   "cell_type": "code",
   "execution_count": 8,
   "id": "fba14967",
   "metadata": {},
   "outputs": [
    {
     "name": "stdout",
     "output_type": "stream",
     "text": [
      "--------------------\n",
      "B:こんにちは！Aさん、元気ですか？\n",
      "--------------------\n",
      "B:こんにちは、Aさん！今日はどうしたの？\n",
      "--------------------\n",
      "B:こんにちは！Aさん、元気ですか？\n"
     ]
    }
   ],
   "source": [
    "# トークンの選択度合い\n",
    "message = \"\"\"\n",
    "AさんとBさんで会話してください。\n",
    "A:あ、Bさんだ。\n",
    "B:\n",
    "\"\"\"\n",
    "\n",
    "# APIへリクエスト\n",
    "response = client.chat.completions.create(\n",
    "    model=MODEL_NAME,\n",
    "    messages=[\n",
    "        {\"role\": \"user\", \"content\": message},\n",
    "    ],\n",
    "    max_tokens=100,\n",
    "    n=3,\n",
    "    logit_bias = {95839:8, 3393:8}\n",
    ")\n",
    "\n",
    "# 結果を表示\n",
    "for choice in response.choices:\n",
    "    print(\"-\" * 20)\n",
    "    print(choice.message.content.strip())"
   ]
  },
  {
   "cell_type": "code",
   "execution_count": 9,
   "id": "1505e1d3",
   "metadata": {},
   "outputs": [
    {
     "name": "stdout",
     "output_type": "stream",
     "text": [
      "言語モデルを効果的に活用するためのポイントはいくつかあります。以下に主な点を挙げてみます。\n",
      "\n",
      "1. **明確な質問や指示をする**: 言語モデルは明確さを重視します。具体的で詳細な質問や指示を与えることで、より関連性の高い回答を得られます。\n",
      "\n",
      "2. **コンテキストを提供する**: 質問の背景や関連情報を提供することで、モデルはより適切な文脈で回答できます。コンテキストが不足していると、誤解を招くことがあります。\n",
      "\n",
      "3. **繰り返しやフィードバックを活用する**: 最初の回答が期待に合わない場合、再質問や追加の情報を提供することで、モデルの応答を改善できます。フィードバックを活用することが重要です。\n",
      "\n",
      "4. **出力の検証**: モデルの出力は必ずしも正確とは限らないため、重要な決定には独自の確認や追加の調査が必要です。\n",
      "\n",
      "5. **応答のスタイルを指定する**: 形式やトーンが重要な場合、具体的なスタイルを指定することで、求める応答に近づけることができます。\n",
      "\n",
      "6. **利用目的を明確にする**: モデルを使う目的（情報収集、アイデアの生成、問題解決など）を明確にすることで、より効果的な利用が可能です。\n",
      "\n",
      "7. **多様な質問を試みる**: 同じテーマに対して異なる角度から質問することで、より豊かな情報や新たな視点を得ることができます。\n",
      "\n",
      "8. **バイアスを理解する**: 言語モデルは学習データに基づいて構築されているため、社会的なバイアスや誤情報を含む場合があります。そのため、出力内容には批判的な思考を持って接することが重要です。\n",
      "\n",
      "これらのポイントを押さえることで、言語モデルをより効果的に活用できるでしょう。"
     ]
    }
   ],
   "source": [
    "# メッセージの設定\n",
    "message = \"言語モデルを使う上でのポイントは\"\n",
    "\n",
    "# APIへリクエスト\n",
    "stream = client.chat.completions.create(\n",
    "    model=MODEL_NAME,\n",
    "    messages=[\n",
    "        {\"role\": \"user\", \"content\": message},\n",
    "    ],\n",
    "    stream=True,\n",
    ")\n",
    "\n",
    "for chunk in stream:\n",
    "    if chunk.choices:\n",
    "        if chunk.choices[0].delta.content is not None:\n",
    "            print(chunk.choices[0].delta.content, end=\"\")"
   ]
  }
 ],
 "metadata": {
  "kernelspec": {
   "display_name": ".venv",
   "language": "python",
   "name": "python3"
  },
  "language_info": {
   "codemirror_mode": {
    "name": "ipython",
    "version": 3
   },
   "file_extension": ".py",
   "mimetype": "text/x-python",
   "name": "python",
   "nbconvert_exporter": "python",
   "pygments_lexer": "ipython3",
   "version": "3.12.10"
  }
 },
 "nbformat": 4,
 "nbformat_minor": 5
}
