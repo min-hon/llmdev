{
 "cells": [
  {
   "cell_type": "code",
   "execution_count": 1,
   "id": "81b42933",
   "metadata": {},
   "outputs": [],
   "source": [
    "import requests\n",
    "\n",
    "# Wikipedia日本語版のAPIエンドポイント\n",
    "WIKI_API_URL = \"https://ja.wikipedia.org/w/api.php\"\n",
    "\n",
    "# 検索キーワードに該当するWikipediaページを取得する関数\n",
    "def fetch_search_results(keyword, limit=10):\n",
    "    params = {\n",
    "        \"action\": \"query\",\n",
    "        \"list\": \"search\",\n",
    "        \"srsearch\": keyword,\n",
    "        \"format\": \"json\",\n",
    "        \"srlimit\": limit\n",
    "    }\n",
    "\n",
    "    try:\n",
    "        response = requests.get(WIKI_API_URL, params=params)\n",
    "        response.raise_for_status()\n",
    "        data = response.json()\n",
    "        return data.get(\"query\", {}).get(\"search\", [])\n",
    "    except requests.RequestException as e:\n",
    "        print(\"検索リクエストでエラーが発生しました:\", e)\n",
    "        return []\n",
    "\n",
    "# 指定されたタイトルのページ内容を取得する関数\n",
    "def fetch_page_content(title):\n",
    "    params = {\n",
    "        \"action\": \"query\",\n",
    "        \"format\": \"json\",\n",
    "        \"titles\": title,\n",
    "        \"prop\": \"extracts\",\n",
    "        \"explaintext\": True\n",
    "    }\n",
    "\n",
    "    try:\n",
    "        response = requests.get(WIKI_API_URL, params=params)\n",
    "        response.raise_for_status()\n",
    "        data = response.json()\n",
    "        page = next(iter(data.get(\"query\", {}).get(\"pages\", {}).values()), {})\n",
    "        return page.get(\"extract\", \"ページ内容が見つかりません。\")\n",
    "    except requests.RequestException as e:\n",
    "        print(\"ページ内容取得でエラーが発生しました:\", e)\n",
    "        return \"ページ内容が取得できませんでした。\""
   ]
  },
  {
   "cell_type": "code",
   "execution_count": 3,
   "id": "978a9892",
   "metadata": {},
   "outputs": [],
   "source": [
    "# 必要なモジュールをインポート\n",
    "import os\n",
    "from dotenv import load_dotenv\n",
    "from openai import OpenAI\n",
    "\n",
    "# 環境変数の取得\n",
    "load_dotenv(\"../.env\")\n",
    "\n",
    "# OpenAI APIクライアントを生成\n",
    "client = OpenAI(api_key=os.environ['API_KEY'])\n",
    "\n",
    "# モデル名\n",
    "MODEL_NAME = \"gpt-4o-mini\""
   ]
  },
  {
   "cell_type": "code",
   "execution_count": 4,
   "id": "ea80233d",
   "metadata": {},
   "outputs": [],
   "source": [
    "# 要約を行うプロンプトを作成\n",
    "prompt = f\"\"\"\n",
    "以下の文章を要約してください。\n",
    "\n",
    "# 条件：\n",
    "- 小学生にもわかるように\n",
    "- 300文字程度\n",
    "\n",
    "# 文章：\n",
    "{page_content[:1000]}\n",
    "\"\"\"\n",
    "\n",
    "# APIへリクエスト\n",
    "response = client.chat.completions.create(\n",
    "    model=MODEL_NAME,\n",
    "    messages=[\n",
    "        {\"role\": \"user\", \"content\": prompt},\n",
    "    ],\n",
    "    max_tokens=500,\n",
    "    temperature=0.3\n",
    ")"
   ]
  },
  {
   "cell_type": "code",
   "execution_count": 5,
   "id": "97af39d3",
   "metadata": {},
   "outputs": [
    {
     "name": "stdout",
     "output_type": "stream",
     "text": [
      "Python（パイソン）は、1991年にグイド・ヴァン・ロッサムが作ったプログラミング言語です。Pythonは、コードが読みやすく、わかりやすいことを大切にしています。プログラマーは小さなプロジェクトから大きなプロジェクトまで、簡単に論理的なコードを書くことができます。\n",
      "\n",
      "Pythonは、動的に型付けされていて、ガベージコレクションという仕組みを持っています。また、いろいろなプログラミングスタイルに対応していて、便利な機能がたくさんあります。Pythonは「バッテリーを含む」と言われるほど、たくさんの便利なツールが最初から用意されています。\n",
      "\n",
      "Pythonの特徴は、シンプルで効率的なコードを書けることです。基本的な機能だけを提供し、特別な機能はインターネットからダウンロードして使います。Pythonでは「一つの良いやり方がある」と考えられていて、プログラマーたちはその考えを大切にしています。\n"
     ]
    }
   ],
   "source": [
    "# LLMからの回答を表示\n",
    "print(response.choices[0].message.content.strip())"
   ]
  }
 ],
 "metadata": {
  "kernelspec": {
   "display_name": ".venv",
   "language": "python",
   "name": "python3"
  },
  "language_info": {
   "codemirror_mode": {
    "name": "ipython",
    "version": 3
   },
   "file_extension": ".py",
   "mimetype": "text/x-python",
   "name": "python",
   "nbconvert_exporter": "python",
   "pygments_lexer": "ipython3",
   "version": "3.12.10"
  }
 },
 "nbformat": 4,
 "nbformat_minor": 5
}
