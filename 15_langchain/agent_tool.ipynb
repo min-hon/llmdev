{
 "cells": [
  {
   "cell_type": "code",
   "execution_count": 1,
   "id": "74700b73",
   "metadata": {},
   "outputs": [],
   "source": [
    "# 必要なモジュールをインポート\n",
    "import os\n",
    "from dotenv import load_dotenv\n",
    "from langchain_openai import ChatOpenAI\n",
    "\n",
    "# 環境変数の読み込み\n",
    "load_dotenv(\"../.env\")\n",
    "os.environ['OPENAI_API_KEY'] = os.environ['API_KEY']\n",
    "\n",
    "# モデル名\n",
    "MODEL_NAME = \"gpt-4o-mini\""
   ]
  },
  {
   "cell_type": "code",
   "execution_count": 2,
   "id": "90b8ca3e",
   "metadata": {},
   "outputs": [],
   "source": [
    "# 検索ツールの定義\n",
    "from langchain_community.tools.tavily_search import TavilySearchResults\n",
    "\n",
    "tool = TavilySearchResults(max_results=2)\n",
    "tools = [tool]"
   ]
  },
  {
   "cell_type": "code",
   "execution_count": 3,
   "id": "b1a19025",
   "metadata": {},
   "outputs": [
    {
     "data": {
      "text/plain": [
       "[{'url': 'https://zenn.dev/pharmax/articles/8796b892eed183',\n",
       "  'content': 'Nodeは、Graph上で実際のステップを実行するコンポーネントです。例えば実際にLangChainを使用してLLMのモデルを呼び出す処理は、Node上で行います。\\n\\nNodeでは、`(State、Config) -> 変更するState`というシグネチャを持つ関数を使うことができます。 [...] | コンポーネント | 説明 |\\n| --- | --- |\\n| Graph | LangGraphの中核となる構成要素で、各NodeとEdgeの集合体です。 |\\n| State | ノード間の遷移の際に保持される情報で、各ノードが参照および更新します。 |\\n| Node | グラフ内の個々のステップや状態を表す要素で、特定のアクションやチェックポイントとして機能します。 |\\n| Edge | ノード間の接続を表し、遷移の条件やアクションを定義します。条件付きエッジなど、特定のロジックに基づいて遷移を制御できます。 |\\n\\n## Graph\\n\\nGraphは、LangGraphの中核となるグラフ全体を管理するためのコンポーネントです。基本的な使い方としては、`StateGraph`というクラスを使い、後述するStateとセットで初期化します。\\n\\n`StateGraph`\\n\\n（StateGraphの宣言例）'},\n",
       " {'url': 'https://qiita.com/KUROMAGOORO/items/b37c28dbddee4314153e',\n",
       "  'content': '| LangGraph の要素 | 説明 |\\n| --- | --- |\\n| State | 会話履歴や処理結果などを保持し、ノード間で共有・更新出来る。これにより、長い対話や複数ステップの処理が安定して行える。 |\\n| Node | 実際の処理を行う関数やエージェント。Stateを参照・更新出来る |\\n| Edge | ノード間の接続。「あらかじめ定義したノードに遷移」「条件に応じて次のノードを選択」「一定条件で繰り返す」など柔軟なノード遷移の設定が可能。Edge を定義せず LangGraph の goto の関数でも遷移可能 |\\n| Graph | Node と Edge で構成される全体の処理フロー |\\n\\n# 例として以下のようなフローを考える\\n\\n## 機能\\n\\n## ツール\\n\\n## シングルエージェントにツールを持たせた時のイメージ\\n\\nimage.png\\n\\nimage.png\\n\\n### プロンプトの例'}]"
      ]
     },
     "execution_count": 3,
     "metadata": {},
     "output_type": "execute_result"
    }
   ],
   "source": [
    "tool.invoke(\"Langgraphのノードとは？\")"
   ]
  },
  {
   "cell_type": "code",
   "execution_count": 4,
   "id": "7712215e",
   "metadata": {},
   "outputs": [
    {
     "data": {
      "text/plain": [
       "<langgraph.graph.state.StateGraph at 0x1aeb31c1d30>"
      ]
     },
     "execution_count": 4,
     "metadata": {},
     "output_type": "execute_result"
    }
   ],
   "source": [
    "from typing import Annotated\n",
    "from typing_extensions import TypedDict\n",
    "from langgraph.graph import StateGraph\n",
    "from langgraph.graph.message import add_messages\n",
    "\n",
    "# Stateクラスの定義\n",
    "class State(TypedDict):\n",
    "    messages: Annotated[list, add_messages]\n",
    "\n",
    "# グラフのインスタンスを作成\n",
    "graph_builder = StateGraph(State)\n",
    "\n",
    "# 言語モデルの定義\n",
    "llm = ChatOpenAI(model_name=MODEL_NAME)\n",
    "\n",
    "# 変更点：ツール定義の紐づけ\n",
    "llm_with_tools = llm.bind_tools(tools)\n",
    "\n",
    "# チャットボットノードの作成\n",
    "def chatbot(state: State):\n",
    "    return {\"messages\": [llm_with_tools.invoke(state[\"messages\"])]}\n",
    "\n",
    "# グラフにチャットボットノードを追加\n",
    "graph_builder.add_node(\"chatbot\", chatbot)"
   ]
  },
  {
   "cell_type": "code",
   "execution_count": 5,
   "id": "89e7433e",
   "metadata": {},
   "outputs": [],
   "source": [
    "from langgraph.prebuilt import ToolNode, tools_condition\n",
    "from langgraph.checkpoint.memory import MemorySaver\n",
    "\n",
    "# ツールノードの作成\n",
    "tool_node = ToolNode(tools)\n",
    "\n",
    "# グラフにツールノードを追加\n",
    "graph_builder.add_node(\"tools\", tool_node)\n",
    "\n",
    "# 条件付エッジの作成\n",
    "graph_builder.add_conditional_edges(\n",
    "    \"chatbot\",\n",
    "    tools_condition, # ツール呼出と判断したらツールノードを呼ぶ\n",
    ")\n",
    "\n",
    "# ツールが呼び出されるたびに、チャットボットに戻って次のステップを決定\n",
    "# ツールからチャットボットへの戻りエッジを作成\n",
    "graph_builder.add_edge(\"tools\", \"chatbot\")\n",
    "\n",
    "# 開始ノードの指定\n",
    "graph_builder.set_entry_point(\"chatbot\")\n",
    "\n",
    "# 記憶を持つ実行可能なステートグラフの作成\n",
    "memory = MemorySaver()\n",
    "graph = graph_builder.compile(checkpointer=memory)"
   ]
  },
  {
   "cell_type": "code",
   "execution_count": 6,
   "id": "07948869",
   "metadata": {},
   "outputs": [
    {
     "name": "stdout",
     "output_type": "stream",
     "text": [
      "こんにちは！\n",
      "こんにちは！今日はどんなことをお手伝いできますか？\n",
      "1足す2は？\n",
      "1足す2は3です。何か他に知りたいことはありますか？\n",
      "1メートル以上の魚は？\n",
      "\n",
      "[{\"url\": \"https://www.zukan-bouz.com/syu/%E3%82%AA%E3%82%AA%E3%83%8B%E3%83%99\", \"content\": \"## 基本情報\\n\\n  宮城県でも見つかっているが、千葉県から九州までの暖かい海域で水揚げがある。古くは九州などが主な産地であったが、近年相模湾や駿河湾でもかなりの水揚げをみる。豊洲などの関東の市場でも標準和名のオオニベが定着している。  \\n  天然のほか、熊本県、宮崎県で「みなみすずき」という商品名で養殖していた。  \\n  １m以上になる大型魚でイヤミのない魚なので知名度はないものの、徐々に人気を得ている。  \\n  関東の市場でも普通になっていて、切り身などで小売店に並ぶこともある。  \\n  鮮度がいいと刺身にもなるが、安くておいしいのでフライや煮つけなどの総菜魚として利用価値が高い。  \\n  珍魚度 普通の食用魚である。ただし大型魚なので切身で売られていることが多い。丸のままの状態で手に入れるためには努力を要す。\\n\\n  ## 水産基本情報 [...] Jewfish   \\n  言語英語　場所オーストラリア\\n\\n  日本銀身   \\n  言語中国語　場所臺灣　備考台湾魚類資料庫\\n\\n  ## 学名\\n\\n  Argyrosomus japonicus (Temminck and Schlegel, 1844)\\n\\n  ## 漢字・学名由来\\n\\n  漢字 大鮸　Standard Japanese name / Oonibe  \\n  由来・語源 ニベ科で非常に大型になる。  \\n  〈ニベ科ニベ屬　オホニベ　……著しく大型となる。〉『日本産魚類検索』（岡田彌一郎、松原喜代松　三省堂　初版1938）  \\n  シーボルト、日本動物誌／ファウナ・ヤポニカ（Fauna Japonica ）  フィリップ・フランツ・フォン・シーボルトとその後継者、ハインリヒ・ビュルゲルなどが標本を持ち帰り、川原慶賀（江戸時代の長崎の絵師）が図を書いたもののひとつ。オランダライデン王立自然史博物館のシュレーゲルとテミンクが記載。 [...] # オオニベ\\n\\nScientific Name ／ Argyrosomus japonicus (Temminck and Schlegel, 1844)\\n\\n ツイート\\n\\n1.5m SL前後になる。頭が小さく、胸ビレの長さが第一背鰭（棘条部）の後端に達しない（短い）。尾ビレの後ろ端がまっすぐで中央部が少し出ている\\n\\n メインページ\\n 旧ページへ\\n\\n + 珍魚度・珍しさ\\n\\n    ★★  \\n    少し努力すれば手に入る\\n  + 魚貝の物知り度\\n\\n    ★★★★  \\n    知っていたら達人級\\n  + 食べ物としての重要度\\n\\n    ★★★   \\n    一般的（流通量は普通）\\n  + 味の評価度\\n\\n    ★★★   \\n    美味\\n\\n  ## 分類\\n\\n  硬骨魚綱条鰭亜綱新鰭区棘鰭上目スズキ系スズキ目スズキ亜目ニベ科オオニベ属\\n\\n  ## 外国名\\n\\n  Japanese meagre   \\n  言語英語　備考fishbase　\\n\\n  ---\\n\\n  Japanese croaker   \\n\\n  ---\\n\\n  日本白姑魚   \\n  言語中国語\"}, {\"url\": \"https://tsurihack.com/1870\", \"content\": \"レボ ビックシューター WM50\\n\\nこの商品を見る\\n\\n 楽天市場で詳細を調べよう\\n ヤフーで詳細を調べよう\\n Amazonで詳細を調べよう\\n\\n 楽天市場で詳細を調べよう\\n ヤフーで詳細を調べよう\\n Amazonで詳細を調べよう\\n\\nギア比：7.6:1\\n最大ドラグ力：10kg\\n自重：400g\\n巻取り長さ：95cm\\n\\n## 日本三大怪魚のアカメ\\n\\n出典：PIXTA\\n\\nアカメは、スズキ目アカメ科の魚。西日本の太平洋岸だけに生息しています。体長は1メートル前後にもなり、高知県を除く地域では、絶滅危惧IB類 (EN)に指定されています。\\n\\n東南アジア近隣に生息するバラマンディ―の近縁種で、暗い場所で光を目に当てると赤く光ることが名前の由来。多くのルアーマンたちの憧れのターゲットです。\\n\\n### 生態\\n\\n黒潮に面した西日本の沿岸域だけに分布する日本の固有種で、おもな生息域は宮崎県と高知県。夜行性でフィッシュイーターである彼らは、エサを求めて雨の日や夜に限って汽水域に侵入し、ベイトを捕食します。 [...] ギア比：5.7\\n最大ドラグ力：13kg\\n自重：420g 　　　　　　　　\\n巻取り長さ：97cm\\nPE糸巻量 （号-m）：2-350/3-240/4-170\\nナイロン糸巻量（号-m）：4-200/5-150/6-130\\n\\n▼アカメ釣りを紹介している記事です。  \\n\\nアカメ釣り入門！幻の魚を釣るポイントと必要なタックルとは\\n\\nAngler@ライター\\n\\n## 日本三大怪魚のイトウ\\n\\n出典：PIXTA\\n\\nイトウは、サケ目サケ科イトウ属の魚。北海道の一部の河川や湖沼、樺太、南千島に生息している日本最大の淡水魚とし、体長は1メートルから1.5メートル。\\n\\n最大記録は昭和12年に北海道十勝川で約2.1メートルのイトウが捕獲されています。メーター級に成長するまで10年以上を要すると言われており、その希少性もあいまって、幻の魚と呼ばれています。\\n\\n### 生態\\n\\nイトウは通常、流れの緩い河川を好み、サケと同様に降海性を持つ魚です。海に出た後の生態は未だに解明されておらず謎の魚。小さい個体は、カゲロウなどの水生昆虫を捕食しますが、水面に落ちた陸棲昆虫はあまり食べません。 [...] ルアーは基本、7～15センチ程度のトラウト用ミノーかスプーンでトウイッチ＆ジャーク。夏場にはトップウォーターなども有効です。  \\n軽い素振りで低弾道を実現！\\n\\nフィッシュマン \\n\\nBeams LOWER7.3L\\n\\nこの商品を見る\\n\\n 楽天市場で詳細を調べよう\\n ヤフーで詳細を調べよう\\n Amazonで詳細を調べよう\\n\\n 楽天市場で詳細を調べよう\\n ヤフーで詳細を調べよう\\n Amazonで詳細を調べよう\\n\\n全長：2.22m\\n継数：3本\\n仕舞寸法：88cm\\n自重：132g\\nルアー重量：3~20g\\nPEライン適合：1.0~3.0号\\n\\n  \\n全てのアングラーの欲望を叶える名機！  \\n\\nシマノ \\n\\nカルカッタコンクエスト 300\\n\\nこの商品を見る\\n\\n 楽天市場で詳細を調べよう\\n ヤフーで詳細を調べよう\\n Amazonで詳細を調べよう\\n\\n 楽天市場で詳細を調べよう\\n ヤフーで詳細を調べよう\\n Amazonで詳細を調べよう\\n\\nギア比：6.2\\n最大ドラグ力：7kg\\n自重：325g 　　　　　　　　\\n巻取り長さ：84cm\\nナイロン糸巻量（lb-m）：16-210/20-160/25-135\"}]\n",
      "1メートル以上の魚には、以下のような種類があります。\n",
      "\n",
      "1. **オオニベ** (Argyrosomus japonicus)\n",
      "   - この魚は通常1メートル以上に成長し、主に関東の市場でも見かけます。刺身やフライとして食べられることが多く、安くて美味しい魚です。\n",
      "   - 詳細はこちら: [オオニベの情報](https://www.zukan-bouz.com/syu/%E3%82%AA%E3%82%AA%E3%83%8B%E3%83%99)\n",
      "\n",
      "2. **アカメ**\n",
      "   - 日本の固有種で、体長は1メートル前後になります。特に西日本の太平洋岸に生息しており、絶滅危惧種としても知られています。\n",
      "   - 詳細はこちら: [アカメの情報](https://tsurihack.com/1870)\n",
      "\n",
      "3. **イトウ**\n",
      "   - 北海道の河川や湖沼に生息する日本最大の淡水魚で、体長は1メートルから1.5メートルに達します。非常に珍しい魚として知られています。\n",
      "   - 詳細はこちら: [イトウの情報](https://tsurihack.com/1870)\n",
      "\n",
      "これらの魚は、サイズが大きく、釣りや料理の対象として人気があります。他にも知りたい魚があればお知らせください！\n",
      "ありがとうございました!\n"
     ]
    }
   ],
   "source": [
    "# グラフの実行と結果の表示\n",
    "def stream_graph_updates(user_input: str):\n",
    "    events = graph.stream(\n",
    "        {\"messages\": [(\"user\", user_input)]},\n",
    "        {\"configurable\": {\"thread_id\": \"1\"}},\n",
    "        stream_mode=\"values\")\n",
    "    # 結果をストリーミングで得る\n",
    "    for event in events:\n",
    "        print(event[\"messages\"][-1].content, flush=True)\n",
    "\n",
    "# チャットボットのループ\n",
    "while True:\n",
    "    user_input = input(\"質問:\")\n",
    "    if user_input.strip()==\"\":\n",
    "        print(\"ありがとうございました!\")\n",
    "        break\n",
    "    stream_graph_updates(user_input)"
   ]
  }
 ],
 "metadata": {
  "kernelspec": {
   "display_name": ".venv",
   "language": "python",
   "name": "python3"
  },
  "language_info": {
   "codemirror_mode": {
    "name": "ipython",
    "version": 3
   },
   "file_extension": ".py",
   "mimetype": "text/x-python",
   "name": "python",
   "nbconvert_exporter": "python",
   "pygments_lexer": "ipython3",
   "version": "3.12.10"
  }
 },
 "nbformat": 4,
 "nbformat_minor": 5
}
