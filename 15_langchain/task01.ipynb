{
 "cells": [
  {
   "cell_type": "code",
   "execution_count": 6,
   "id": "d5b4c015",
   "metadata": {},
   "outputs": [
    {
     "name": "stdout",
     "output_type": "stream",
     "text": [
      "こんにちは！\n",
      "こんにちは！今日はどんなことをお手伝いできますか？\n",
      "\n",
      "２足す３は？\n",
      "２足す３は５です。何か他にお知りになりたいことはありますか？\n",
      "\n",
      "福島県の観光地について検索して\n",
      "\n",
      "[{\"url\": \"https://travel.rakuten.co.jp/mytrip/ranking/spot-fukushima\", \"content\": \"磐梯山をはじめ、神秘的な五色沼や猪苗代湖など雄大な自然に恵まれた福島県。そのほか、「スパリゾートハワイアンズ」や鶴ヶ城、大内宿なども外せません。福島の現地\"}, {\"url\": \"https://article.his-j.com/kokunai/tohoku/fukushima/post-16195/\", \"content\": \"ããªãã£ãã·ã¥ãã«ãºã¯ãç´7ä¸3ååªãããåºå¤§ãªæ·å°ã§ä¸­ä¸è±å½ã®è¡ä¸¦ã¿ãæ¥½ãããã¨ãã§ããè¦³åã¹ãããã§ãã  \\næ·å°åã«ã¯ãããã¼ãã¦ã¹ããè±å½éè²¨ããåç£ãè³¼å¥ã§ããããã¯ããªã¢ã³ã¢ã¬ã¼ããã³ã³ãµã¼ããªã©ãè¡ãããããã¼ã«ã«ã¼ã ããªã©ãããã¾ãã  \\nã¾ãå®¿æ³ãå¯è½ã§ãã¬ã¹ãã©ã³ã§ã¯æ¬æ ¼çãªãã£ãã¼ã³ã¼ã¹ãæ¥½ãããã¨ãã§ãã¾ãã [...] ä½æï¼ã965-0873 ç¦å³¶çä¼æ´¥è¥æ¾å¸è¿½æçº1-1\\n ã¢ã¯ã»ã¹ï¼JR ä¼æ´¥è¥æ¾é§ãããã¾ã¡ãªãå¨éãã¹ ãã¤ã«ã©ãããã§ç´10ï½20åï¼ã«ã¼ãã«ããï¼\\n\\nä¸è¬è²¡å£æ³äºº ä¼æ´¥è¥æ¾è¦³åãã¥ã¼ã­ã¼ å¬å¼ãã¼ã ãã¼ã¸ï¼å¤é¨ãµã¤ãï¼\\n\\n## ãã¶ãã¾æ´\\n\\n## é£¯åæ¸©æ³\\n\\n## é¶´ã¶å\\n\\n## ãã¶ãã¾æ´ [...] ä½æï¼ã969-2274 ç¦å³¶çè¶éº»é¡çªèä»£çºå£ºæ¥åæµï¼å¿ç°æµï¼\\n ã¢ã¯ã»ã¹ï¼ç£è¶èªåè»éãçªèä»£ç£æ¢¯é«åICãããå¿ç°æµã¾ã§è»ã§ç´10å\\n\\nç¦å³¶çè¦³åæå ±ãµã¤ã ãµããã¾ã®æï¼å¤é¨ãµã¤ãï¼\\n\\n## äºè²æ²¼\\n\\n## äºè²æ²¼\"}]\n",
      "福島県の観光地についての情報をいくつかご紹介します。\n",
      "\n",
      "1. **磐梯山と五色沼**: 磐梯山は美しい山で、五色沼はその周辺に広がる神秘的な湖群です。自然を楽しむには最適な場所です。\n",
      "   [詳細はこちら](https://travel.rakuten.co.jp/mytrip/ranking/spot-fukushima)\n",
      "\n",
      "2. **スパリゾートハワイアンズ**: 温泉やプールを楽しめるリゾート施設で、家族連れにも人気です。\n",
      "\n",
      "3. **鶴ヶ城**: 歴史的な城で、美しい庭園もあります。文化や歴史に触れたい方にお勧めです。\n",
      "\n",
      "4. **大内宿**: 江戸時代の宿場町の風景が残る場所で、伝統的な建物や食文化を楽しむことができます。\n",
      "\n",
      "観光地は自然や文化が豊かで、訪れる価値があります。興味のある場所があれば、さらに詳しい情報をお伝えできます！\n",
      "\n",
      "ありがとうございました!\n"
     ]
    }
   ],
   "source": [
    "# 必要なモジュールをインポート\n",
    "import os\n",
    "from dotenv import load_dotenv\n",
    "from langchain_openai import ChatOpenAI\n",
    "from typing import Annotated\n",
    "from typing_extensions import TypedDict\n",
    "from langchain_community.tools.tavily_search import TavilySearchResults\n",
    "from langgraph.graph import StateGraph\n",
    "from langgraph.graph.message import add_messages\n",
    "from langgraph.prebuilt import ToolNode, tools_condition\n",
    "from langgraph.checkpoint.memory import MemorySaver\n",
    "\n",
    "# ===== Stateクラスの定義 =====\n",
    "class State(TypedDict):\n",
    "    messages: Annotated[list, add_messages]\n",
    "\n",
    "# ===== グラフの構築 =====\n",
    "def build_graph(model_name):\n",
    "    # ソースコードを記述\n",
    "    graph_builder = StateGraph(State)\n",
    "    llm = ChatOpenAI(model=model_name)\n",
    "\n",
    "    tool = TavilySearchResults(max_results=2)\n",
    "    tools = [tool]\n",
    "    llm_with_tools = llm.bind_tools(tools)\n",
    "\n",
    "    def chatbot(state: State):\n",
    "        return {\"messages\": [llm_with_tools.invoke(state[\"messages\"])]}\n",
    "    \n",
    "    graph_builder.add_node(\"chatbot\", chatbot)\n",
    "\n",
    "    tool_node = ToolNode(tools)\n",
    "    graph_builder.add_node(\"tools\", tool_node)\n",
    "    graph_builder.add_conditional_edges(\"chatbot\", tools_condition,)\n",
    "    graph_builder.add_edge(\"tools\", \"chatbot\")\n",
    "    graph_builder.set_entry_point(\"chatbot\")\n",
    "\n",
    "    memory = MemorySaver()\n",
    "    return graph_builder.compile(checkpointer=memory)\n",
    "\n",
    "# ===== グラフ実行関数 =====\n",
    "def stream_graph_updates(graph: StateGraph, user_input: str):\n",
    "    # ソースコードを記述\n",
    "    events = graph.stream(\n",
    "        {\"messages\": [(\"user\", user_input)]},\n",
    "        {\"configurable\": {\"thread_id\": \"1\"}},\n",
    "        stream_mode=\"values\")\n",
    "    for event in events:\n",
    "        print(event[\"messages\"][-1].content, flush=True)\n",
    "    print()\n",
    "\n",
    "# ===== メイン実行ロジック =====\n",
    "# 環境変数の読み込み\n",
    "load_dotenv(\"../.env\")\n",
    "os.environ['OPENAI_API_KEY'] = os.environ['API_KEY']\n",
    "\n",
    "# モデル名\n",
    "MODEL_NAME = \"gpt-4o-mini\" \n",
    "\n",
    "# グラフの作成\n",
    "# ソースコードを記述\n",
    "graph = build_graph(MODEL_NAME)\n",
    "\n",
    "# メインループ\n",
    "# ソースコードを記述\n",
    "while True:\n",
    "    user_input = input(\"質問:\")\n",
    "    if user_input.strip()==\"\":\n",
    "        print(\"ありがとうございました!\")\n",
    "        break\n",
    "    stream_graph_updates(graph, user_input)"
   ]
  }
 ],
 "metadata": {
  "kernelspec": {
   "display_name": ".venv",
   "language": "python",
   "name": "python3"
  },
  "language_info": {
   "codemirror_mode": {
    "name": "ipython",
    "version": 3
   },
   "file_extension": ".py",
   "mimetype": "text/x-python",
   "name": "python",
   "nbconvert_exporter": "python",
   "pygments_lexer": "ipython3",
   "version": "3.12.10"
  }
 },
 "nbformat": 4,
 "nbformat_minor": 5
}
